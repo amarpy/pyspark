{
 "cells": [
  {
   "cell_type": "code",
   "execution_count": 22,
   "metadata": {},
   "outputs": [
    {
     "data": {
      "text/html": [
       "\n",
       "            <div>\n",
       "                <p><b>SparkSession - hive</b></p>\n",
       "                \n",
       "        <div>\n",
       "            <p><b>SparkContext</b></p>\n",
       "\n",
       "            <p><a href=\"http://9.85.74.11:4040\">Spark UI</a></p>\n",
       "\n",
       "            <dl>\n",
       "              <dt>Version</dt>\n",
       "                <dd><code>v2.3.0</code></dd>\n",
       "              <dt>Master</dt>\n",
       "                <dd><code>local[*]</code></dd>\n",
       "              <dt>AppName</dt>\n",
       "                <dd><code>PySparkShell</code></dd>\n",
       "            </dl>\n",
       "        </div>\n",
       "        \n",
       "            </div>\n",
       "        "
      ],
      "text/plain": [
       "<pyspark.sql.session.SparkSession at 0x2166bb00128>"
      ]
     },
     "execution_count": 22,
     "metadata": {},
     "output_type": "execute_result"
    }
   ],
   "source": [
    "#check spark session\n",
    "spark"
   ]
  },
  {
   "cell_type": "code",
   "execution_count": 23,
   "metadata": {},
   "outputs": [
    {
     "data": {
      "text/plain": [
       "DataFrame[car: string, mpg: double, cyl: int, disp: double, hp: int, drat: double, wt: double, qsec: double, vs: int, am: int, gear: int, carb: int]"
      ]
     },
     "execution_count": 23,
     "metadata": {},
     "output_type": "execute_result"
    }
   ],
   "source": [
    "#read csv file from local or url into a Dataframe\n",
    "mtcars_df = spark.read.csv(\"mtcars.csv\", header = True, inferSchema = True)\n",
    "mtcars_df"
   ]
  },
  {
   "cell_type": "code",
   "execution_count": 24,
   "metadata": {},
   "outputs": [
    {
     "data": {
      "text/plain": [
       "['car',\n",
       " 'mpg',\n",
       " 'cyl',\n",
       " 'disp',\n",
       " 'hp',\n",
       " 'drat',\n",
       " 'wt',\n",
       " 'qsec',\n",
       " 'vs',\n",
       " 'am',\n",
       " 'gear',\n",
       " 'carb']"
      ]
     },
     "execution_count": 24,
     "metadata": {},
     "output_type": "execute_result"
    }
   ],
   "source": [
    "#list columns\n",
    "mtcars_df.columns"
   ]
  },
  {
   "cell_type": "code",
   "execution_count": 25,
   "metadata": {},
   "outputs": [
    {
     "name": "stdout",
     "output_type": "stream",
     "text": [
      "root\n",
      " |-- car: string (nullable = true)\n",
      " |-- mpg: double (nullable = true)\n",
      " |-- cyl: integer (nullable = true)\n",
      " |-- disp: double (nullable = true)\n",
      " |-- hp: integer (nullable = true)\n",
      " |-- drat: double (nullable = true)\n",
      " |-- wt: double (nullable = true)\n",
      " |-- qsec: double (nullable = true)\n",
      " |-- vs: integer (nullable = true)\n",
      " |-- am: integer (nullable = true)\n",
      " |-- gear: integer (nullable = true)\n",
      " |-- carb: integer (nullable = true)\n",
      "\n"
     ]
    }
   ],
   "source": [
    "#display schema\n",
    "mtcars_df.printSchema()"
   ]
  },
  {
   "cell_type": "code",
   "execution_count": 26,
   "metadata": {},
   "outputs": [
    {
     "name": "stdout",
     "output_type": "stream",
     "text": [
      "+-----------------+----+---+-----+---+----+-----+-----+---+---+----+----+\n",
      "|              car| mpg|cyl| disp| hp|drat|   wt| qsec| vs| am|gear|carb|\n",
      "+-----------------+----+---+-----+---+----+-----+-----+---+---+----+----+\n",
      "|        Mazda RX4|21.0|  6|160.0|110| 3.9| 2.62|16.46|  0|  1|   4|   4|\n",
      "|    Mazda RX4 Wag|21.0|  6|160.0|110| 3.9|2.875|17.02|  0|  1|   4|   4|\n",
      "|       Datsun 710|22.8|  4|108.0| 93|3.85| 2.32|18.61|  1|  1|   4|   1|\n",
      "|   Hornet 4 Drive|21.4|  6|258.0|110|3.08|3.215|19.44|  1|  0|   3|   1|\n",
      "|Hornet Sportabout|18.7|  8|360.0|175|3.15| 3.44|17.02|  0|  0|   3|   2|\n",
      "+-----------------+----+---+-----+---+----+-----+-----+---+---+----+----+\n",
      "only showing top 5 rows\n",
      "\n"
     ]
    }
   ],
   "source": [
    "#show first 5 rows\n",
    "mtcars_df.show(5)"
   ]
  },
  {
   "cell_type": "code",
   "execution_count": 27,
   "metadata": {},
   "outputs": [
    {
     "data": {
      "text/plain": [
       "32"
      ]
     },
     "execution_count": 27,
     "metadata": {},
     "output_type": "execute_result"
    }
   ],
   "source": [
    "#number or records\n",
    "mtcars_df.count()"
   ]
  },
  {
   "cell_type": "code",
   "execution_count": 28,
   "metadata": {},
   "outputs": [
    {
     "name": "stdout",
     "output_type": "stream",
     "text": [
      "+-------------------+\n",
      "|                car|\n",
      "+-------------------+\n",
      "|     Ford Pantera L|\n",
      "|         Merc 450SL|\n",
      "|        Honda Civic|\n",
      "|       Ferrari Dino|\n",
      "|      Mazda RX4 Wag|\n",
      "|          Mazda RX4|\n",
      "|          Merc 240D|\n",
      "|        Merc 450SLC|\n",
      "|          Fiat X1-9|\n",
      "|   Pontiac Firebird|\n",
      "|         Merc 450SE|\n",
      "|  Chrysler Imperial|\n",
      "| Cadillac Fleetwood|\n",
      "|         Volvo 142E|\n",
      "|         Duster 360|\n",
      "|           Merc 230|\n",
      "|           Fiat 128|\n",
      "|          Merc 280C|\n",
      "|       Lotus Europa|\n",
      "|        AMC Javelin|\n",
      "|   Dodge Challenger|\n",
      "|  Hornet Sportabout|\n",
      "|      Maserati Bora|\n",
      "|         Datsun 710|\n",
      "|     Toyota Corolla|\n",
      "|     Hornet 4 Drive|\n",
      "|      Porsche 914-2|\n",
      "|            Valiant|\n",
      "|         Camaro Z28|\n",
      "|      Toyota Corona|\n",
      "|Lincoln Continental|\n",
      "|           Merc 280|\n",
      "+-------------------+\n",
      "\n"
     ]
    }
   ],
   "source": [
    "#show the all distinct cars\n",
    "mtcars_df.select(\"car\").distinct().show(32)"
   ]
  },
  {
   "cell_type": "code",
   "execution_count": 29,
   "metadata": {},
   "outputs": [
    {
     "name": "stdout",
     "output_type": "stream",
     "text": [
      "+-------------------+----+---+-----+---+----+-----+-----+---+---+----+----+\n",
      "|                car| mpg|cyl| disp| hp|drat|   wt| qsec| vs| am|gear|carb|\n",
      "+-------------------+----+---+-----+---+----+-----+-----+---+---+----+----+\n",
      "|         Duster 360|14.3|  8|360.0|245|3.21| 3.57|15.84|  0|  0|   3|   4|\n",
      "|          Merc 280C|17.8|  6|167.6|123|3.92| 3.44| 18.9|  1|  0|   4|   4|\n",
      "|         Merc 450SE|16.4|  8|275.8|180|3.07| 4.07| 17.4|  0|  0|   3|   3|\n",
      "|         Merc 450SL|17.3|  8|275.8|180|3.07| 3.73| 17.6|  0|  0|   3|   3|\n",
      "|        Merc 450SLC|15.2|  8|275.8|180|3.07| 3.78| 18.0|  0|  0|   3|   3|\n",
      "| Cadillac Fleetwood|10.4|  8|472.0|205|2.93| 5.25|17.98|  0|  0|   3|   4|\n",
      "|Lincoln Continental|10.4|  8|460.0|215| 3.0|5.424|17.82|  0|  0|   3|   4|\n",
      "|  Chrysler Imperial|14.7|  8|440.0|230|3.23|5.345|17.42|  0|  0|   3|   4|\n",
      "|   Dodge Challenger|15.5|  8|318.0|150|2.76| 3.52|16.87|  0|  0|   3|   2|\n",
      "|        AMC Javelin|15.2|  8|304.0|150|3.15|3.435| 17.3|  0|  0|   3|   2|\n",
      "|         Camaro Z28|13.3|  8|350.0|245|3.73| 3.84|15.41|  0|  0|   3|   4|\n",
      "|     Ford Pantera L|15.8|  8|351.0|264|4.22| 3.17| 14.5|  0|  1|   5|   4|\n",
      "|      Maserati Bora|15.0|  8|301.0|335|3.54| 3.57| 14.6|  0|  1|   5|   8|\n",
      "+-------------------+----+---+-----+---+----+-----+-----+---+---+----+----+\n",
      "\n"
     ]
    }
   ],
   "source": [
    "#show cars from mtcars_df where \"mpg\" < 18\n",
    "mtcars_df.filter(mtcars_df[\"mpg\"] < 18).show()"
   ]
  },
  {
   "cell_type": "code",
   "execution_count": 30,
   "metadata": {},
   "outputs": [
    {
     "name": "stdout",
     "output_type": "stream",
     "text": [
      "+-----------------+----+---+-----+---+----+-----+-----+---+---+----+----+-------+\n",
      "|              car| mpg|cyl| disp| hp|drat|   wt| qsec| vs| am|gear|carb|  wtTon|\n",
      "+-----------------+----+---+-----+---+----+-----+-----+---+---+----+----+-------+\n",
      "|        Mazda RX4|21.0|  6|160.0|110| 3.9| 2.62|16.46|  0|  1|   4|   4|  1.179|\n",
      "|    Mazda RX4 Wag|21.0|  6|160.0|110| 3.9|2.875|17.02|  0|  1|   4|   4|1.29375|\n",
      "|       Datsun 710|22.8|  4|108.0| 93|3.85| 2.32|18.61|  1|  1|   4|   1|  1.044|\n",
      "|   Hornet 4 Drive|21.4|  6|258.0|110|3.08|3.215|19.44|  1|  0|   3|   1|1.44675|\n",
      "|Hornet Sportabout|18.7|  8|360.0|175|3.15| 3.44|17.02|  0|  0|   3|   2|  1.548|\n",
      "+-----------------+----+---+-----+---+----+-----+-----+---+---+----+----+-------+\n",
      "only showing top 5 rows\n",
      "\n"
     ]
    }
   ],
   "source": [
    "#create a new column \"wtTon\" using \"wt\" such that wtTon = wt * 0.45\n",
    "mtcars_df.withColumn(\"wtTon\", mtcars_df[\"wt\"] * 0.45).show(5)"
   ]
  },
  {
   "cell_type": "code",
   "execution_count": 31,
   "metadata": {},
   "outputs": [
    {
     "name": "stdout",
     "output_type": "stream",
     "text": [
      "+---+------------------+\n",
      "|cyl|           avg(wt)|\n",
      "+---+------------------+\n",
      "|  6| 3.117142857142857|\n",
      "|  4| 2.285727272727273|\n",
      "|  8|3.9992142857142867|\n",
      "+---+------------------+\n",
      "\n"
     ]
    }
   ],
   "source": [
    "#compute avg(wt) of cars based on their cylinders\n",
    "mtcars_df.groupBy([\"cyl\"]).agg({\"wt\":\"AVG\"}).show()"
   ]
  },
  {
   "cell_type": "code",
   "execution_count": 32,
   "metadata": {},
   "outputs": [
    {
     "name": "stdout",
     "output_type": "stream",
     "text": [
      "+----+------------------+\n",
      "|gear|          avg(mpg)|\n",
      "+----+------------------+\n",
      "|   3|16.106666666666666|\n",
      "|   5|21.380000000000003|\n",
      "|   4| 24.53333333333333|\n",
      "+----+------------------+\n",
      "\n"
     ]
    }
   ],
   "source": [
    "#calculate the max(mpg) for each gear type\n",
    "mtcars_df.groupBy([\"gear\"]).agg({\"mpg\": \"AVG\"}).show()"
   ]
  },
  {
   "cell_type": "code",
   "execution_count": 33,
   "metadata": {},
   "outputs": [
    {
     "name": "stdout",
     "output_type": "stream",
     "text": [
      "+----+---+----------+\n",
      "|gear|cyl|count(car)|\n",
      "+----+---+----------+\n",
      "|   5|  8|         2|\n",
      "|   5|  6|         1|\n",
      "|   5|  4|         2|\n",
      "|   4|  6|         4|\n",
      "|   4|  4|         8|\n",
      "|   3|  8|        12|\n",
      "|   3|  6|         2|\n",
      "|   3|  4|         1|\n",
      "+----+---+----------+\n",
      "\n"
     ]
    }
   ],
   "source": [
    "#which gear and cylinder combination has most cars\n",
    "mtcars_df.groupBy([\"gear\", \"cyl\"]).agg({\"car\": \"count\"}).orderBy(\"gear\", \"cyl\", ascending = False).show()"
   ]
  },
  {
   "cell_type": "code",
   "execution_count": 34,
   "metadata": {},
   "outputs": [],
   "source": [
    "#register the Dataframe as a temp table to use SQL query\n",
    "mtcars_df.registerTempTable(\"mtcars\")"
   ]
  },
  {
   "cell_type": "code",
   "execution_count": 35,
   "metadata": {},
   "outputs": [
    {
     "name": "stdout",
     "output_type": "stream",
     "text": [
      "+----+---+----------+\n",
      "|gear|cyl|count(car)|\n",
      "+----+---+----------+\n",
      "|   5|  8|         2|\n",
      "|   5|  6|         1|\n",
      "|   5|  4|         2|\n",
      "|   4|  6|         4|\n",
      "|   4|  4|         8|\n",
      "|   3|  8|        12|\n",
      "|   3|  6|         2|\n",
      "|   3|  4|         1|\n",
      "+----+---+----------+\n",
      "\n"
     ]
    }
   ],
   "source": [
    "#write a SQL query to display same result as above\n",
    "mtcars_sql = sql(\"SELECT gear, cyl, count(car) FROM mtcars GROUP BY gear, cyl ORDER BY gear desc, cyl desc\")\n",
    "mtcars_sql.show()"
   ]
  },
  {
   "cell_type": "code",
   "execution_count": null,
   "metadata": {},
   "outputs": [],
   "source": []
  },
  {
   "cell_type": "code",
   "execution_count": null,
   "metadata": {},
   "outputs": [],
   "source": []
  }
 ],
 "metadata": {
  "kernelspec": {
   "display_name": "Python 3",
   "language": "python",
   "name": "python3"
  },
  "language_info": {
   "codemirror_mode": {
    "name": "ipython",
    "version": 3
   },
   "file_extension": ".py",
   "mimetype": "text/x-python",
   "name": "python",
   "nbconvert_exporter": "python",
   "pygments_lexer": "ipython3",
   "version": "3.6.3"
  }
 },
 "nbformat": 4,
 "nbformat_minor": 2
}
